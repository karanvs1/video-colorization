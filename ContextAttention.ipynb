{
  "nbformat": 4,
  "nbformat_minor": 0,
  "metadata": {
    "colab": {
      "name": "VideoColorization.ipynb",
      "provenance": [],
      "collapsed_sections": []
    },
    "kernelspec": {
      "name": "python3",
      "display_name": "Python 3"
    },
    "language_info": {
      "name": "python"
    }
  },
  "cells": [
    {
      "cell_type": "code",
      "execution_count": null,
      "metadata": {
        "colab": {
          "base_uri": "https://localhost:8080/"
        },
        "id": "i5aZbYD355PW",
        "outputId": "93a14686-dad9-4a29-b473-59c5895e01c3"
      },
      "outputs": [
        {
          "output_type": "stream",
          "name": "stdout",
          "text": [
            "Mounted at /content/drive\n"
          ]
        }
      ],
      "source": [
        "from google.colab import drive\n",
        "drive.mount('/content/drive')"
      ]
    },
    {
      "cell_type": "code",
      "source": [
        "import torch\n",
        "import torch.nn as nn\n",
        "import torchvision\n",
        "import torchvision.transforms as tfs\n",
        "\n",
        "import numpy as np\n",
        "import scipy.io\n",
        "import matplotlib.pyplot as plt\n",
        "from PIL import Image\n",
        "import cv2\n",
        "import gc\n",
        "from skimage.color import rgb2lab, lab2rgb\n",
        "\n",
        "from torchsummary import summary\n",
        "from tqdm import tqdm\n",
        "import os\n",
        "\n",
        "device = 'cuda' if torch.cuda.is_available() else 'cpu'\n",
        "print(\"Device: \", device)"
      ],
      "metadata": {
        "id": "duVCsRGG6GTY",
        "colab": {
          "base_uri": "https://localhost:8080/"
        },
        "outputId": "30eebd5f-d620-4d2c-9b21-1098fbacc14d"
      },
      "execution_count": null,
      "outputs": [
        {
          "output_type": "stream",
          "name": "stdout",
          "text": [
            "Device:  cpu\n"
          ]
        }
      ]
    },
    {
      "cell_type": "code",
      "source": [
        "videos_path = '/content/drive/MyDrive/Spring 2022/11785 Deep Learning TA/Project/Sample Dataset (DAVIS and Videvo)/DAVIS/'\n",
        "videos_root = os.listdir(videos_path)\n",
        "\n",
        "context = 3\n",
        "\n",
        "x = []\n",
        "\n",
        "for i, vid in enumerate(videos_root):\n",
        "    frames = sorted(os.listdir(videos_path + vid))\n",
        "    frames = [vid + '/' + frame for frame in frames]\n",
        "    x.extend([(frames[j:j+context], frames[(2*j+context)//2]) for j in range(0, len(frames) + 1 - context)])"
      ],
      "metadata": {
        "id": "FZgnyOuQzH9u"
      },
      "execution_count": null,
      "outputs": []
    },
    {
      "cell_type": "code",
      "source": [
        "from torchvision.transforms.transforms import ToPILImage\n",
        "videos_path = '/content/drive/MyDrive/Spring 2022/11785 Deep Learning TA/Project/Sample Dataset (DAVIS and Videvo)/DAVIS/'\n",
        "videos_root = os.listdir(videos_path)\n",
        "\n",
        "context = 3\n",
        "resize_size = 224\n",
        "\n",
        "transforms = tfs.Compose([tfs.ToTensor()])\n",
        "\n",
        "data = []\n",
        "\n",
        "for i, vid in enumerate(videos_root):\n",
        "    frames = sorted(os.listdir(videos_path + vid))\n",
        "    frames = [vid + '/' + frame for frame in frames]\n",
        "    print(\"Loading video \", i+1)\n",
        "    for j in tqdm(range(0, len(frames) + 1 - context)):\n",
        "        x = []\n",
        "        for k in range(context):\n",
        "            img = rgb2lab(plt.imread(videos_path + frames[j+k]))\n",
        "            img = cv2.resize(img, (resize_size, resize_size))\n",
        "            img = transforms(img)\n",
        "            x.append(img[0, :, :])\n",
        "\n",
        "        x = torch.stack(x, dim= 0)\n",
        "        img = cv2.resize(rgb2lab(plt.imread(videos_path + frames[(2*j+k)//2])), (resize_size, resize_size))\n",
        "        y = transforms(img[:,:,1:3])\n",
        "\n",
        "        data.append((x, y))"
      ],
      "metadata": {
        "id": "tLxj9GC69-tN"
      },
      "execution_count": null,
      "outputs": []
    },
    {
      "cell_type": "code",
      "source": [
        "ylab = rgb2lab(y)\n",
        "print(ylab.shape)\n",
        "plt.imshow(ylab[:, :, 0])"
      ],
      "metadata": {
        "id": "ufsOQom1ATRX"
      },
      "execution_count": null,
      "outputs": []
    },
    {
      "cell_type": "code",
      "source": [
        "# Dataset class videos path is the folder containing folders of video frames\n",
        "\n",
        "class VCdataset(torch.utils.data.Dataset):\n",
        "    \n",
        "    def __init__(self, videos_path, resize_size, context):\n",
        "\n",
        "        self.videos_path = videos_path\n",
        "        self.resize_size= resize_size\n",
        "        videos_root = os.listdir(videos_path)\n",
        "        data = []\n",
        "\n",
        "        for i, vid in enumerate(videos_root):\n",
        "            frames = sorted(os.listdir(videos_path + vid))\n",
        "            frames = [vid + '/' + frame for frame in frames]\n",
        "            data.extend([(frames[j:j+context], frames[(2*j+context)//2]) for j in range(0, len(frames) + 1 - context)])\n",
        "        \n",
        "        self.data = data\n",
        "        self.transforms = tfs.Compose([tfs.ToTensor()])\n",
        "\n",
        "    def __len__(self):\n",
        "        return len(self.data)\n",
        "\n",
        "    def __getitem__(self, ind):\n",
        "\n",
        "        x, y = self.data[ind]\n",
        "        X = []\n",
        "\n",
        "        for img_path in x:\n",
        "            img = rgb2lab(plt.imread(videos_path + img_path))\n",
        "            img = cv2.resize(img, (self.resize_size, self.resize_size))\n",
        "            img = self.transforms(img)\n",
        "            X.append(img[0, :, :])\n",
        "\n",
        "        X = torch.stack(X, dim= 0)\n",
        "        yimg = cv2.resize(rgb2lab(plt.imread(self.videos_path + y)), (self.resize_size, self.resize_size))\n",
        "        Y = self.transforms(yimg[:,:,1:3])\n",
        "\n",
        "        return X, Y"
      ],
      "metadata": {
        "id": "IAWv_MAc0Qzf"
      },
      "execution_count": null,
      "outputs": []
    },
    {
      "cell_type": "code",
      "source": [
        "videos_path = '/content/drive/MyDrive/Spring 2022/11785 Deep Learning TA/Project/Sample Dataset (DAVIS and Videvo)/DAVIS/'\n",
        "\n",
        "batch_size= 2\n",
        "\n",
        "train_data = VCdataset(videos_path, resize_size= 256, context= 3)\n",
        "\n",
        "train_loader = torch.utils.data.DataLoader(train_data, batch_size= batch_size, shuffle= True)\n",
        "print(\"No: Image sets: \", train_data.__len__())\n",
        "print(\"Batch size: \", batch_size)\n",
        "print(\"Number of batches: \", len(train_loader))"
      ],
      "metadata": {
        "colab": {
          "base_uri": "https://localhost:8080/"
        },
        "id": "Wfo9Qg321esz",
        "outputId": "22b6ff92-c583-4b9b-89a6-43ef5e6e7080"
      },
      "execution_count": null,
      "outputs": [
        {
          "output_type": "stream",
          "name": "stdout",
          "text": [
            "No: Image sets:  243\n",
            "Batch size:  2\n",
            "Number of batches:  122\n"
          ]
        }
      ]
    },
    {
      "cell_type": "code",
      "source": [
        "for data in train_loader:\n",
        "    x, y = data\n",
        "    print(x.shape, y.shape)\n",
        "    break"
      ],
      "metadata": {
        "colab": {
          "base_uri": "https://localhost:8080/"
        },
        "id": "2a-OSUq67iJe",
        "outputId": "9559d781-1ac3-49be-d17c-e20c7ce08424"
      },
      "execution_count": null,
      "outputs": [
        {
          "output_type": "stream",
          "name": "stdout",
          "text": [
            "torch.Size([2, 3, 256, 256]) torch.Size([2, 2, 256, 256])\n"
          ]
        }
      ]
    },
    {
      "cell_type": "code",
      "source": [
        "x, y = train_data[0]\n",
        "print(x.shape, y.shape)"
      ],
      "metadata": {
        "colab": {
          "base_uri": "https://localhost:8080/"
        },
        "id": "LPfkwNOgtZo3",
        "outputId": "b7c99f1b-868c-4dcc-a74f-6f61f9b2968a"
      },
      "execution_count": null,
      "outputs": [
        {
          "output_type": "stream",
          "name": "stdout",
          "text": [
            "torch.Size([3, 256, 256]) torch.Size([2, 256, 256])\n"
          ]
        }
      ]
    },
    {
      "cell_type": "code",
      "source": [
        "plt.imshow(y[1, :, :], cmap='gray')"
      ],
      "metadata": {
        "colab": {
          "base_uri": "https://localhost:8080/",
          "height": 286
        },
        "id": "B6Upvqu0tkip",
        "outputId": "3f2df3b5-b439-432e-d42d-c2cc19e1f0b1"
      },
      "execution_count": null,
      "outputs": [
        {
          "output_type": "execute_result",
          "data": {
            "text/plain": [
              "<matplotlib.image.AxesImage at 0x7fe83017c110>"
            ]
          },
          "metadata": {},
          "execution_count": 10
        },
        {
          "output_type": "display_data",
          "data": {
            "text/plain": [
              "<Figure size 432x288 with 1 Axes>"
            ],
            "image/png": "[encoded data removed]"
          },
          "metadata": {
            "needs_background": "light"
          }
        }
      ]
    },
    {
      "cell_type": "code",
      "source": [
        "class ContextModel(nn.Module):\n",
        "\n",
        "    def __init__(self, context):\n",
        "        super(ContextModel, self).__init__()\n",
        "        \n",
        "        self.context = context\n",
        "        self.att_conv = nn.ModuleList()\n",
        "\n",
        "        for i in range(context): # init conv weight map blocks for frames other than middle one\n",
        "            \n",
        "            layer = None if i == context//2 else nn.Sequential(\n",
        "                nn.Conv2d(2, 64, kernel_size= 3, padding= 1, bias= True),\n",
        "                nn.ReLU(True),\n",
        "                nn.Conv2d(64, 1, kernel_size= 1, bias= True),\n",
        "                nn.Sigmoid()\n",
        "            )\n",
        "\n",
        "            self.att_conv.append(layer)\n",
        "\n",
        "\n",
        "    def forward(self, x):\n",
        "        xt = x[:, self.context//2, :, :]\n",
        "\n",
        "        for i in range(self.context):\n",
        "            if i != self.context//2:\n",
        "                img = torch.stack([xt, x[:, i]], dim= 1)\n",
        "                x[:, i] *= self.att_conv[i](img).squeeze(1)\n",
        "\n",
        "        return x\n",
        "        \n",
        "cm = ContextModel(context= 5).to(device)\n",
        "print(cm)\n",
        "summary(cm, (5, 224, 224))"
      ],
      "metadata": {
        "id": "iIEwLtZ9ewNP",
        "colab": {
          "base_uri": "https://localhost:8080/"
        },
        "outputId": "42cf1ca1-7840-4579-a6fd-3bb13ee01588"
      },
      "execution_count": null,
      "outputs": [
        {
          "output_type": "stream",
          "name": "stdout",
          "text": [
            "ContextModel(\n",
            "  (att_conv): ModuleList(\n",
            "    (0): Sequential(\n",
            "      (0): Conv2d(2, 64, kernel_size=(3, 3), stride=(1, 1), padding=(1, 1))\n",
            "      (1): ReLU(inplace=True)\n",
            "      (2): Conv2d(64, 1, kernel_size=(1, 1), stride=(1, 1))\n",
            "      (3): Sigmoid()\n",
            "    )\n",
            "    (1): Sequential(\n",
            "      (0): Conv2d(2, 64, kernel_size=(3, 3), stride=(1, 1), padding=(1, 1))\n",
            "      (1): ReLU(inplace=True)\n",
            "      (2): Conv2d(64, 1, kernel_size=(1, 1), stride=(1, 1))\n",
            "      (3): Sigmoid()\n",
            "    )\n",
            "    (2): None\n",
            "    (3): Sequential(\n",
            "      (0): Conv2d(2, 64, kernel_size=(3, 3), stride=(1, 1), padding=(1, 1))\n",
            "      (1): ReLU(inplace=True)\n",
            "      (2): Conv2d(64, 1, kernel_size=(1, 1), stride=(1, 1))\n",
            "      (3): Sigmoid()\n",
            "    )\n",
            "    (4): Sequential(\n",
            "      (0): Conv2d(2, 64, kernel_size=(3, 3), stride=(1, 1), padding=(1, 1))\n",
            "      (1): ReLU(inplace=True)\n",
            "      (2): Conv2d(64, 1, kernel_size=(1, 1), stride=(1, 1))\n",
            "      (3): Sigmoid()\n",
            "    )\n",
            "  )\n",
            ")\n",
            "----------------------------------------------------------------\n",
            "        Layer (type)               Output Shape         Param #\n",
            "================================================================\n",
            "            Conv2d-1         [-1, 64, 224, 224]           1,216\n",
            "              ReLU-2         [-1, 64, 224, 224]               0\n",
            "            Conv2d-3          [-1, 1, 224, 224]              65\n",
            "           Sigmoid-4          [-1, 1, 224, 224]               0\n",
            "            Conv2d-5         [-1, 64, 224, 224]           1,216\n",
            "              ReLU-6         [-1, 64, 224, 224]               0\n",
            "            Conv2d-7          [-1, 1, 224, 224]              65\n",
            "           Sigmoid-8          [-1, 1, 224, 224]               0\n",
            "            Conv2d-9         [-1, 64, 224, 224]           1,216\n",
            "             ReLU-10         [-1, 64, 224, 224]               0\n",
            "           Conv2d-11          [-1, 1, 224, 224]              65\n",
            "          Sigmoid-12          [-1, 1, 224, 224]               0\n",
            "           Conv2d-13         [-1, 64, 224, 224]           1,216\n",
            "             ReLU-14         [-1, 64, 224, 224]               0\n",
            "           Conv2d-15          [-1, 1, 224, 224]              65\n",
            "          Sigmoid-16          [-1, 1, 224, 224]               0\n",
            "================================================================\n",
            "Total params: 5,124\n",
            "Trainable params: 5,124\n",
            "Non-trainable params: 0\n",
            "----------------------------------------------------------------\n",
            "Input size (MB): 0.96\n",
            "Forward/backward pass size (MB): 199.06\n",
            "Params size (MB): 0.02\n",
            "Estimated Total Size (MB): 200.04\n",
            "----------------------------------------------------------------\n"
          ]
        }
      ]
    }
  ]
}